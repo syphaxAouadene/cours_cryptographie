{
 "cells": [
  {
   "cell_type": "markdown",
   "metadata": {},
   "source": [
    "# Exercice 3 : Chiffrement et déchiffrment à la main "
   ]
  },
  {
   "cell_type": "markdown",
   "metadata": {},
   "source": [
    "- Le chiffrement à la main du message :\n",
    "<< chiffrement de vigenere amelioration du chiffre de cesar >>  \n",
    "\n",
    "est : \n",
    "<< DVVOTLVNSACRYMJURWSLVBARUWIIBHVXBXLDVVOTLVESPNGUI >>\n",
    "\n",
    "- Le dechiffrement à la main du message :\n",
    "<< GMPYO EAUBO DBTXQ LKYAL WINES JKUTG GIVXH VSYRC BQUXH RPNVF JXTXV LTVRS\n",
    "KIKLW SSYNC IVGMS FUPUM VQVNB IHGKO PJGGW KZOXI IXQKH IHCZI IMXBS ZSFKU\n",
    "MIPWA VYYKH VQVEO HBCVZ ZCTTW KUIAGGMFXG YHVOZ GQQGG VUMOZ ZVEX >>\n",
    "\n",
    "est : \n",
    "<< LENFANTAVAITRECUDEUXBALLESDANSLATETELELOGISETAITPROPREHUMBLEPAISIBLEHONNETEONVOYAITUNRAMEAUBENITSURUNPORTRAITUNEVIEILLEGRANDMEREETAITLAQUIPLEURAITNOUSLEDESHABILLIONSENSILENCE >>"
   ]
  },
  {
   "cell_type": "markdown",
   "metadata": {},
   "source": [
    "# Exercice 4 : Chiffrement et déchiffrment en Python"
   ]
  },
  {
   "cell_type": "code",
   "execution_count": 21,
   "metadata": {},
   "outputs": [],
   "source": [
    "def crypter_ou_decrypter ( message, cle, decode = False) :\n",
    "    message = message.upper()\n",
    "    cle = cle.upper()\n",
    "    message_code = \"\"\n",
    "    for i,c in enumerate(message) :\n",
    "        d = cle[ i % len(cle) ]\n",
    "        d = ord(d) - 65\n",
    "        if decode : d = 26 - d\n",
    "        message_code += chr((ord(c)-65+d)%26+65)\n",
    "    return message_code\n",
    "\n",
    "def decrypter(message, cle):\n",
    "    return crypter_ou_decrypter(message, cle, True)\n",
    "\n",
    "def crypter(message, cle):\n",
    "    return crypter_ou_decrypter(message, cle)"
   ]
  },
  {
   "cell_type": "code",
   "execution_count": 22,
   "metadata": {},
   "outputs": [
    {
     "data": {
      "text/plain": [
       "'CCOCRYPSMADBCL'"
      ]
     },
     "execution_count": 22,
     "metadata": {},
     "output_type": "execute_result"
    }
   ],
   "source": [
    "cle = \"coucou\"\n",
    "crypter(\"aouadenesyphax\", cle)"
   ]
  },
  {
   "cell_type": "code",
   "execution_count": 23,
   "metadata": {},
   "outputs": [
    {
     "data": {
      "text/plain": [
       "'AOUADENESYPHAX'"
      ]
     },
     "execution_count": 23,
     "metadata": {},
     "output_type": "execute_result"
    }
   ],
   "source": [
    "decrypter(crypter(\"aouadenesyphax\", cle), cle)"
   ]
  },
  {
   "cell_type": "code",
   "execution_count": null,
   "metadata": {},
   "outputs": [],
   "source": []
  }
 ],
 "metadata": {
  "kernelspec": {
   "display_name": "Python 3",
   "language": "python",
   "name": "python3"
  },
  "language_info": {
   "codemirror_mode": {
    "name": "ipython",
    "version": 3
   },
   "file_extension": ".py",
   "mimetype": "text/x-python",
   "name": "python",
   "nbconvert_exporter": "python",
   "pygments_lexer": "ipython3",
   "version": "3.8.3"
  }
 },
 "nbformat": 4,
 "nbformat_minor": 4
}
