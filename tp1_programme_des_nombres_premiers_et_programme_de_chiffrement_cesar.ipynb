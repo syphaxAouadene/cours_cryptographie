{
 "cells": [
  {
   "cell_type": "markdown",
   "metadata": {},
   "source": [
    "# Programme python qui liste tous les nombres premiers inferieurs à n :"
   ]
  },
  {
   "cell_type": "code",
   "execution_count": 16,
   "metadata": {},
   "outputs": [
    {
     "name": "stdout",
     "output_type": "stream",
     "text": [
      "voici tous les nombres premiers inférieurs à 300 :\n",
      "2, 3, 5, 7, 11, 13, 17, 19, 23, 29, 31, 37, 41, 43, 47, 53, 59, 61, 67, 71, 73, 79, 83, 89, 97, 101, 103, 107, 109, 113, 127, 131, 137, 139, 149, 151, 157, 163, 167, 173, 179, 181, 191, 193, 197, 199, 211, 223, 227, 229, 233, 239, 241, 251, 257, 263, 269, 271, 277, 281, 283, 293, "
     ]
    }
   ],
   "source": [
    "def trouver_tous_nmbr_premiers(n):\n",
    "    if n==2 :\n",
    "        print(\"voici tous les nombres premiers inférieurs à {} :\\n2\".format(n))\n",
    "    elif n<2 :\n",
    "        print(\"aucun nombre premier trouvé !\")\n",
    "    else:\n",
    "        print(\"voici tous les nombres premiers inférieurs à {} :\\n2\".format(n), end=', ')\n",
    "        for i in range(3, n, 2):\n",
    "            boo = False\n",
    "            for j in range(3, i, 2):\n",
    "                if i % j == 0:\n",
    "                    boo = True\n",
    "                    break\n",
    "            if boo==False:\n",
    "                print(i, end=', ')\n",
    "                \n",
    "\n",
    "        \n",
    "        \n",
    "trouver_tous_nmbr_premiers(300)"
   ]
  },
  {
   "cell_type": "code",
   "execution_count": null,
   "metadata": {},
   "outputs": [],
   "source": []
  },
  {
   "cell_type": "code",
   "execution_count": null,
   "metadata": {},
   "outputs": [],
   "source": []
  },
  {
   "cell_type": "markdown",
   "metadata": {},
   "source": [
    "# Implementation du programme du chiffrement de César :"
   ]
  },
  {
   "cell_type": "code",
   "execution_count": 47,
   "metadata": {},
   "outputs": [],
   "source": [
    "import string\n",
    "\n",
    "\n",
    "def cesar(n, texte):\n",
    "    # transformer le texte en minuscule et supprimer tous les espaces dans le texte\n",
    "    texte = texte.lower().replace(' ', '')\n",
    "    # definir une liste d'alphabets en ordre de \"a\" à \"z\"\n",
    "    alph_clair = list(string.ascii_lowercase)\n",
    "    # definir un alphabet avec decalage de n lettres\n",
    "    alph_chiff = alph_clair[n:] + alph_clair[:n]\n",
    "    texte_crypte = ''\n",
    "    for k in range(len(texte)):\n",
    "        texte_crypte += alph_chiff[alph_clair.index(texte[k])]\n",
    "    return texte_crypte\n",
    "    \n",
    "def dechiffrer_cesar(n, texte_crypte):\n",
    "    # transformer le texte en minuscule et supprimer tous les espaces dans le texte\n",
    "    texte_crypte = texte_crypte.lower().replace(' ', '')\n",
    "    # definir une liste d'alphabets en ordre de \"a\" à \"z\"\n",
    "    alph_clair = list(string.ascii_lowercase)\n",
    "    # definir un alphabet avec decalage de n lettres\n",
    "    alph_chiff = alph_clair[n:] + alph_clair[:n]\n",
    "    texte_originel = ''\n",
    "    for k in range(len(texte_crypte)):\n",
    "        texte_originel += alph_clair[alph_chiff.index(texte_crypte[k])]\n",
    "    return texte_originel\n",
    "    \n",
    "    \n",
    "    \n",
    "def attack_cesar(texte_originel, texte_crypte):\n",
    "    keys = range(26)\n",
    "    for key in keys:\n",
    "        # transformer le texte en minuscule et supprimer tous les espaces dans le texte\n",
    "        texte_originel = texte_originel.lower().replace(' ', '')\n",
    "        # definir une liste d'alphabets en ordre de \"a\" à \"z\"\n",
    "        alph_clair = list(string.ascii_lowercase)\n",
    "        # definir un alphabet avec decalage de n lettres\n",
    "        alph_chiff = alph_clair[key:] + alph_clair[:key]\n",
    "        texte_crypte = ''\n",
    "        for k in range(len(texte_originel)):\n",
    "            texte_crypte += alph_chiff[alph_clair.index(texte[k])]\n",
    "        print(\"key={}\".format(key), \"------\" + texte_originel + \" >>>>>>>>>>> \"+ texte_crypte)\n",
    "    print('\\nen analysant les déffirents chiffrage on peut directement deduire la clé, \\net donc le systéme de césar est cassé')"
   ]
  },
  {
   "cell_type": "code",
   "execution_count": 48,
   "metadata": {},
   "outputs": [
    {
     "data": {
      "text/plain": [
       "'jxdjmnwnbhyqjg'"
      ]
     },
     "execution_count": 48,
     "metadata": {},
     "output_type": "execute_result"
    }
   ],
   "source": [
    "cesar(9, \"aouadenesyphax\")"
   ]
  },
  {
   "cell_type": "code",
   "execution_count": 49,
   "metadata": {},
   "outputs": [
    {
     "data": {
      "text/plain": [
       "'aouadenesyphax'"
      ]
     },
     "execution_count": 49,
     "metadata": {},
     "output_type": "execute_result"
    }
   ],
   "source": [
    "dechiffrer_cesar(9, \"jxdjmnwnbhyqjg\")"
   ]
  },
  {
   "cell_type": "code",
   "execution_count": 50,
   "metadata": {},
   "outputs": [
    {
     "name": "stdout",
     "output_type": "stream",
     "text": [
      "key=0 ------aouadenesyphax >>>>>>>>>>> aouadenesyphax\n",
      "key=1 ------aouadenesyphax >>>>>>>>>>> bpvbefoftzqiby\n",
      "key=2 ------aouadenesyphax >>>>>>>>>>> cqwcfgpguarjcz\n",
      "key=3 ------aouadenesyphax >>>>>>>>>>> drxdghqhvbskda\n",
      "key=4 ------aouadenesyphax >>>>>>>>>>> esyehiriwctleb\n",
      "key=5 ------aouadenesyphax >>>>>>>>>>> ftzfijsjxdumfc\n",
      "key=6 ------aouadenesyphax >>>>>>>>>>> guagjktkyevngd\n",
      "key=7 ------aouadenesyphax >>>>>>>>>>> hvbhklulzfwohe\n",
      "key=8 ------aouadenesyphax >>>>>>>>>>> iwcilmvmagxpif\n",
      "key=9 ------aouadenesyphax >>>>>>>>>>> jxdjmnwnbhyqjg\n",
      "key=10 ------aouadenesyphax >>>>>>>>>>> kyeknoxocizrkh\n",
      "key=11 ------aouadenesyphax >>>>>>>>>>> lzflopypdjasli\n",
      "key=12 ------aouadenesyphax >>>>>>>>>>> magmpqzqekbtmj\n",
      "key=13 ------aouadenesyphax >>>>>>>>>>> nbhnqrarflcunk\n",
      "key=14 ------aouadenesyphax >>>>>>>>>>> ociorsbsgmdvol\n",
      "key=15 ------aouadenesyphax >>>>>>>>>>> pdjpstcthnewpm\n",
      "key=16 ------aouadenesyphax >>>>>>>>>>> qekqtuduiofxqn\n",
      "key=17 ------aouadenesyphax >>>>>>>>>>> rflruvevjpgyro\n",
      "key=18 ------aouadenesyphax >>>>>>>>>>> sgmsvwfwkqhzsp\n",
      "key=19 ------aouadenesyphax >>>>>>>>>>> thntwxgxlriatq\n",
      "key=20 ------aouadenesyphax >>>>>>>>>>> uiouxyhymsjbur\n",
      "key=21 ------aouadenesyphax >>>>>>>>>>> vjpvyzizntkcvs\n",
      "key=22 ------aouadenesyphax >>>>>>>>>>> wkqwzajaouldwt\n",
      "key=23 ------aouadenesyphax >>>>>>>>>>> xlrxabkbpvmexu\n",
      "key=24 ------aouadenesyphax >>>>>>>>>>> ymsybclcqwnfyv\n",
      "key=25 ------aouadenesyphax >>>>>>>>>>> zntzcdmdrxogzw\n",
      "\n",
      "en analysant les déffirents chiffrage on peut directement deduire la clé, \n",
      "et donc le systéme de césar est cassé\n"
     ]
    }
   ],
   "source": [
    "attack_cesar(\"aouadenesyphax\", \"jxdjmnwnbhyqjg\")"
   ]
  },
  {
   "cell_type": "code",
   "execution_count": null,
   "metadata": {},
   "outputs": [],
   "source": []
  },
  {
   "cell_type": "code",
   "execution_count": null,
   "metadata": {},
   "outputs": [],
   "source": []
  },
  {
   "cell_type": "code",
   "execution_count": null,
   "metadata": {},
   "outputs": [],
   "source": []
  },
  {
   "cell_type": "code",
   "execution_count": null,
   "metadata": {},
   "outputs": [],
   "source": []
  },
  {
   "cell_type": "code",
   "execution_count": null,
   "metadata": {},
   "outputs": [],
   "source": []
  },
  {
   "cell_type": "code",
   "execution_count": null,
   "metadata": {},
   "outputs": [],
   "source": []
  },
  {
   "cell_type": "code",
   "execution_count": null,
   "metadata": {},
   "outputs": [],
   "source": []
  }
 ],
 "metadata": {
  "kernelspec": {
   "display_name": "Python 3",
   "language": "python",
   "name": "python3"
  },
  "language_info": {
   "codemirror_mode": {
    "name": "ipython",
    "version": 3
   },
   "file_extension": ".py",
   "mimetype": "text/x-python",
   "name": "python",
   "nbconvert_exporter": "python",
   "pygments_lexer": "ipython3",
   "version": "3.8.3"
  }
 },
 "nbformat": 4,
 "nbformat_minor": 4
}
